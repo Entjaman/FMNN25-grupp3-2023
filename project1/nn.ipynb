{
 "cells": [
  {
   "cell_type": "markdown",
   "metadata": {},
   "source": [
    "# Project 1\n",
    "\n",
    "This describes the first bigger programming project in the course, devoted to artificial\n",
    "neural networks.\n",
    "Application: Recognizing handwritten numbers\n",
    "Most people effortlessly recognise these digits as 504192. This ease is deceptive. The\n",
    "difficulty of visual pattern recognition becomes obvious when trying to write a computer\n",
    "program to recognise digits like the above. What seems easy when we do it ourselves\n",
    "suddenly becomes extremely difficult. Simple notions about how we recognise shapes -\n",
    "“a 9 has a loop at the top and a vertical line at the bottom right” - turn out to be not\n",
    "so easy to express algorithmically. If you try to specify such rules, you quickly get lost\n",
    "in a quagmire of exceptions, restrictions and special cases. It seems hopeless.\n",
    "Neural networks approach the problem differently. The idea is to use a large number of\n",
    "handwritten digits, called training examples, and then develop a system that can learn\n",
    "from these training examples. In other words, the neural network uses the examples to\n",
    "automatically derive rules for recognising handwritten digits. In addition, by increasing\n",
    "the number of training examples, the network can learn more about handwriting and\n",
    "thus improve its accuracy."
   ]
  },
  {
   "cell_type": "markdown",
   "metadata": {},
   "source": [
    "### Imports"
   ]
  },
  {
   "cell_type": "code",
   "execution_count": 1,
   "metadata": {},
   "outputs": [],
   "source": [
    "# Imports\n",
    "import numpy as np\n",
    "# pickle is for loading the dataset\n",
    "import pickle\n",
    "\n",
    "import matplotlib.pyplot as plt"
   ]
  },
  {
   "cell_type": "markdown",
   "metadata": {},
   "source": [
    "### Feedforward NN Class\n",
    "\n",
    "Feedforward neural network consisting of 3 layers (input,\n",
    "hidden, output layer), where each layer can contain any number of neurons. Sigmoid function is used as the activation function.\n",
    "\n",
    "Stochastic gradient method (SGD) with backpropagation to train the network.\n",
    "\n"
   ]
  },
  {
   "cell_type": "code",
   "execution_count": 2,
   "metadata": {},
   "outputs": [],
   "source": [
    "# Feedforward NN Class\n",
    "class FeedForwardNeuralNetwork():\n",
    "    def __init__(self, input_size, hidden_size, output_size):\n",
    "        self.input_size = input_size\n",
    "        self.hidden_size = hidden_size\n",
    "        self.output_size = output_size\n",
    "        \n",
    "        # randn was used to achieve a better initial estimate of the weights and biases by having random values from a \n",
    "        # gaussian distribution. This results in better accuracy    \n",
    "        self.weights_input_hidden = np.random.randn(self.input_size, self.hidden_size)\n",
    "        self.bias_hidden = np.random.randn(self.hidden_size)\n",
    "        self.weights_output_hidden = np.random.randn(self.hidden_size, self.output_size)\n",
    "        self.bias_output = np.random.randn(self.output_size)\n",
    "\n",
    "    def sigmoid(self, X):\n",
    "        return 1 / (1 + np.exp(-X))\n",
    "    \n",
    "    # performs the forward pass through the neural network : that is, it does matrix multiplication(np.dot) and adds the\n",
    "    # biases\n",
    "    def forward(self, input_data):\n",
    "        hidden_input = np.dot(input_data, self.weights_input_hidden) + self.bias_hidden\n",
    "        hidden_output = self.sigmoid(hidden_input)\n",
    "        output = np.dot(hidden_output, self.weights_output_hidden) + self.bias_output\n",
    "        network_output = self.sigmoid(output)\n",
    "        return network_output, hidden_output\n",
    "    \n",
    "\n",
    "    def train_sgd(self, X_train, Y_train, X_val, Y_val_onehot, learning_rate, batch_size, epochs):\n",
    "        \n",
    "        \"\"\"\n",
    "        X_train : training samples\n",
    "        Y_train : training labels\n",
    "        x_val   : validation samples\n",
    "        Y_val_onehot  : validation labels\n",
    "        learning_rate : step size for the backpropagation\n",
    "        batch_size    : the number of samples processed before the model is updated\n",
    "        epochs        : the number of complete passes through the entire dataset\n",
    "        \n",
    "        \"\"\"\n",
    "        indices = np.arange(len(X_train))\n",
    "        loss_history = []  # Store loss values for each epoch\n",
    "\n",
    "        for epoch in range(epochs):\n",
    "            # Shuffle the dataset so that the batch samples are not consecutive\n",
    "            np.random.shuffle(indices)\n",
    "            total_loss = []\n",
    "\n",
    "            print(f'----------epoch: {epoch}------------')\n",
    "\n",
    "            for i in range(0, len(X_train), batch_size):\n",
    "                # Create mini-batches\n",
    "                batch_indices = indices[i:i+batch_size]\n",
    "                X_batch = X_train[batch_indices]\n",
    "                y_batch = Y_train[batch_indices]\n",
    "\n",
    "                # Forward pass\n",
    "                network_output, hidden_output = self.forward(X_batch)\n",
    "\n",
    "                # Backpropagation\n",
    "                # Calculate loss and gradients\n",
    "                # quadratic function (square loss) -- 1/2n is the mean from the formula\n",
    "                loss = np.mean(0.5 * (network_output - y_batch) ** 2, axis=0)\n",
    "                # the loss is averaged over the multiple losses to have a prettier print\n",
    "                total_loss.append(np.mean(loss))  # Average over the mini-batch\n",
    "\n",
    "                error = network_output - y_batch\n",
    "                # calculate the gradient (derivative) of the loss with respect to the output of the neural network's final layer.\n",
    "                d_output = error * network_output * (1 - network_output)\n",
    "                # calculate the gradient of the loss with respect to the hidden layer's activations.\n",
    "                d_hidden = np.dot(d_output, self.weights_output_hidden.T) * hidden_output * (1 - hidden_output)\n",
    "\n",
    "                # Update weights and biases\n",
    "                self.weights_output_hidden -= learning_rate * np.dot(hidden_output.T, d_output)\n",
    "                self.bias_output -= learning_rate * np.sum(d_output, axis=0)\n",
    "                self.weights_input_hidden -= learning_rate * np.dot(X_batch.T, d_hidden)\n",
    "                self.bias_hidden -= learning_rate * np.sum(d_hidden, axis=0)\n",
    "            \n",
    "            loss_history.append(np.mean(total_loss))    \n",
    "            print(f'mean square loss: {np.mean(total_loss)}')\n",
    "                # Evaluate the model on the validation set\n",
    "                #maybe comment it if we dont want the validation within the training\n",
    "            # Plot loss against epoch\n",
    "        plt.plot(range(epochs), loss_history, label='Mean Square Loss')\n",
    "        plt.xlabel('Epoch')\n",
    "        plt.ylabel('Loss')\n",
    "        plt.title('Loss vs. Epoch')\n",
    "        plt.legend()\n",
    "        plt.show()\n",
    "        \n",
    "    def predict(self, input_data):\n",
    "        # Perform a forward pass to generate predictions\n",
    "        hidden_input = np.dot(input_data, self.weights_input_hidden) + self.bias_hidden\n",
    "        hidden_output = self.sigmoid(hidden_input)\n",
    "        output = np.dot(hidden_output, self.weights_output_hidden) + self.bias_output\n",
    "        network_output = self.sigmoid(output)\n",
    "\n",
    "        # Return the predicted values\n",
    "        return network_output\n",
    "    \n",
    "    # functions to save the weights and biases in a txt file and to load it in the model\n",
    "    def save_weights(self, filename):\n",
    "        \"\"\"\n",
    "        This function saves the weights from the model in order i.e. the weights from the first layer and then second according\n",
    "        to the labels given in the function call(which is before the equal)\n",
    "        The file will have the .npz extension automatically if not written specifically in the filename\n",
    "        \"\"\"\n",
    "        #probably want to save the number of neurons on each layer as well, and restore the model with load(but i thought about it a bit too late)\n",
    "        np.savez(filename, weights_input_hidden=self.weights_input_hidden,\n",
    "                           bias_hidden=self.bias_hidden,\n",
    "                           weights_output_hidden= self.weights_output_hidden,\n",
    "                           bias_output =self.bias_output)\n",
    "    \n",
    "    \n",
    "    def load_weights(self,filename):\n",
    "        \"\"\"\n",
    "        Loads the weights from a file. The filename should have the extension .npz in the name. The weights are loaded\n",
    "        according to the labels which have been used to save it\n",
    "        \n",
    "        \"\"\"\n",
    "        all_weights = np.load(filename)\n",
    "        self.weights_input_hidden = all_weights['weights_input_hidden']\n",
    "        self.bias_hidden = all_weights['bias_hidden']\n",
    "        self.weights_output_hidden = all_weights['weights_output_hidden']\n",
    "        self.bias_output = all_weights['bias_output']\n"
   ]
  },
  {
   "cell_type": "markdown",
   "metadata": {},
   "source": [
    "### Load Data\n",
    "\n",
    "Reading in MNIST data (provided in canvas). The data is separated into training\n",
    "data (50 000), validation data (10 000), and test data (10 000)."
   ]
  },
  {
   "cell_type": "code",
   "execution_count": 3,
   "metadata": {},
   "outputs": [],
   "source": [
    "# Load MNIST data from mnist.pkl\n",
    "with open('mnist.pkl', 'rb') as f:\n",
    "    mnist_data = pickle.load(f, encoding='latin1')\n",
    "\n",
    "# Extract training, validation, and test sets\n",
    "train_data, valid_data, test_data = mnist_data\n",
    "\n",
    "# Unpack the data into inputs and labels\n",
    "X_train, Y_train = train_data\n",
    "X_val, Y_val = valid_data\n",
    "X_test, Y_test = test_data\n",
    "\n",
    "# Convert inputs to numpy arrays\n",
    "X_train = np.array(X_train)\n",
    "X_val = np.array(X_val)\n",
    "X_test = np.array(X_test)\n",
    "\n",
    "# Convert labels to numpy arrays\n",
    "Y_train = np.array(Y_train)\n",
    "Y_val = np.array(Y_val)\n",
    "Y_test = np.array(Y_test)\n"
   ]
  },
  {
   "cell_type": "markdown",
   "metadata": {},
   "source": [
    "### Normalize "
   ]
  },
  {
   "cell_type": "code",
   "execution_count": 4,
   "metadata": {},
   "outputs": [],
   "source": [
    "\n",
    "from sklearn.preprocessing import MinMaxScaler\n",
    "\n",
    "scaler = MinMaxScaler()\n",
    "X_train_normalized = scaler.fit_transform(X_train)\n",
    "X_val_normalized = scaler.transform(X_val)\n",
    "X_test_normalized = scaler.transform(X_test)"
   ]
  },
  {
   "cell_type": "markdown",
   "metadata": {},
   "source": [
    "### Onehot encode the labels"
   ]
  },
  {
   "cell_type": "code",
   "execution_count": 5,
   "metadata": {},
   "outputs": [
    {
     "data": {
      "text/plain": [
       "((50000, 10), (50000, 784))"
      ]
     },
     "execution_count": 5,
     "metadata": {},
     "output_type": "execute_result"
    }
   ],
   "source": [
    "#one hot encoding - maps the numbers for all the dataset to vectors with 1s and 0s \n",
    "from sklearn.preprocessing import OneHotEncoder\n",
    "encoder = OneHotEncoder(sparse_output=False)\n",
    "Y_train_onehot = encoder.fit_transform(Y_train.reshape(-1, 1))\n",
    "Y_val_onehot = encoder.fit_transform(Y_val.reshape(-1, 1))\n",
    "\n",
    "np.shape(Y_train_onehot), np.shape(X_train)"
   ]
  },
  {
   "cell_type": "markdown",
   "metadata": {},
   "source": [
    "### Training\n",
    "Train and test the accuracy of the network for the following parameters:\n",
    "\n",
    "• Input layer with 784 + 1 neurons\n",
    "\n",
    "• hidden layer with 30 + 1 neurons\n",
    "\n",
    "• Output layer with 10 neurons\n",
    "\n",
    "As loss function use the quadratic function (square loss),\n",
    "where (x, y) is a pair of training data, n the amount of used training data, and hw\n",
    "represents the neural network."
   ]
  },
  {
   "cell_type": "code",
   "execution_count": 6,
   "metadata": {},
   "outputs": [
    {
     "name": "stdout",
     "output_type": "stream",
     "text": [
      "----------epoch: 0------------\n",
      "mean square loss: 0.019041534913187608\n",
      "----------epoch: 1------------\n",
      "mean square loss: 0.011606291797675222\n",
      "----------epoch: 2------------\n",
      "mean square loss: 0.007283977558411639\n",
      "----------epoch: 3------------\n",
      "mean square loss: 0.006255387811844151\n",
      "----------epoch: 4------------\n",
      "mean square loss: 0.005729598923088284\n",
      "----------epoch: 5------------\n",
      "mean square loss: 0.005336215183030431\n",
      "----------epoch: 6------------\n",
      "mean square loss: 0.005234225846208984\n",
      "----------epoch: 7------------\n",
      "mean square loss: 0.0049325556730955246\n",
      "----------epoch: 8------------\n",
      "mean square loss: 0.004738320399879859\n",
      "----------epoch: 9------------\n",
      "mean square loss: 0.004751517132645479\n",
      "----------epoch: 10------------\n",
      "mean square loss: 0.004630837923173011\n",
      "----------epoch: 11------------\n",
      "mean square loss: 0.004400596342496368\n",
      "----------epoch: 12------------\n",
      "mean square loss: 0.004465337449775688\n",
      "----------epoch: 13------------\n",
      "mean square loss: 0.004233924971003188\n",
      "----------epoch: 14------------\n",
      "mean square loss: 0.004250977869502847\n",
      "----------epoch: 15------------\n",
      "mean square loss: 0.004112975990416793\n",
      "----------epoch: 16------------\n",
      "mean square loss: 0.00415059530520296\n",
      "----------epoch: 17------------\n",
      "mean square loss: 0.004013715195897529\n",
      "----------epoch: 18------------\n",
      "mean square loss: 0.0039285244794709726\n",
      "----------epoch: 19------------\n",
      "mean square loss: 0.0038963154769709927\n",
      "----------epoch: 20------------\n",
      "mean square loss: 0.00374816037344241\n",
      "----------epoch: 21------------\n",
      "mean square loss: 0.003907578754271786\n",
      "----------epoch: 22------------\n",
      "mean square loss: 0.0036853640458137413\n",
      "----------epoch: 23------------\n",
      "mean square loss: 0.003583886523670597\n",
      "----------epoch: 24------------\n",
      "mean square loss: 0.0036390152538275044\n",
      "----------epoch: 25------------\n",
      "mean square loss: 0.003660679465009073\n",
      "----------epoch: 26------------\n",
      "mean square loss: 0.003613402702633873\n",
      "----------epoch: 27------------\n",
      "mean square loss: 0.003610008812209551\n",
      "----------epoch: 28------------\n",
      "mean square loss: 0.003545608754003128\n",
      "----------epoch: 29------------\n",
      "mean square loss: 0.0034758028208369545\n",
      "----------epoch: 30------------\n",
      "mean square loss: 0.003485071173081562\n",
      "----------epoch: 31------------\n",
      "mean square loss: 0.0034608108891209075\n",
      "----------epoch: 32------------\n",
      "mean square loss: 0.003348707609176879\n",
      "----------epoch: 33------------\n",
      "mean square loss: 0.003345986813188026\n",
      "----------epoch: 34------------\n",
      "mean square loss: 0.0032358324482634885\n",
      "----------epoch: 35------------\n",
      "mean square loss: 0.00331074423278396\n",
      "----------epoch: 36------------\n",
      "mean square loss: 0.0033716210809941064\n",
      "----------epoch: 37------------\n",
      "mean square loss: 0.0032436622167051022\n",
      "----------epoch: 38------------\n",
      "mean square loss: 0.003222191588881307\n",
      "----------epoch: 39------------\n",
      "mean square loss: 0.0030921939976358663\n",
      "----------epoch: 40------------\n",
      "mean square loss: 0.003195010353653568\n",
      "----------epoch: 41------------\n",
      "mean square loss: 0.0030774831338485614\n",
      "----------epoch: 42------------\n",
      "mean square loss: 0.00316752713041845\n",
      "----------epoch: 43------------\n",
      "mean square loss: 0.0030380928464836866\n",
      "----------epoch: 44------------\n",
      "mean square loss: 0.0030302430120561444\n",
      "----------epoch: 45------------\n",
      "mean square loss: 0.002978577043273207\n",
      "----------epoch: 46------------\n",
      "mean square loss: 0.002949986856077467\n",
      "----------epoch: 47------------\n",
      "mean square loss: 0.002894264583000233\n",
      "----------epoch: 48------------\n",
      "mean square loss: 0.0029526738519277027\n",
      "----------epoch: 49------------\n",
      "mean square loss: 0.00293527229988663\n",
      "----------epoch: 50------------\n",
      "mean square loss: 0.003006791056866921\n",
      "----------epoch: 51------------\n",
      "mean square loss: 0.002891060598706277\n",
      "----------epoch: 52------------\n",
      "mean square loss: 0.002746104199017808\n",
      "----------epoch: 53------------\n",
      "mean square loss: 0.0028060450152024795\n",
      "----------epoch: 54------------\n",
      "mean square loss: 0.0027821160027817426\n",
      "----------epoch: 55------------\n",
      "mean square loss: 0.0028061418321213786\n",
      "----------epoch: 56------------\n",
      "mean square loss: 0.00279547232765783\n",
      "----------epoch: 57------------\n",
      "mean square loss: 0.0027548401785552337\n",
      "----------epoch: 58------------\n",
      "mean square loss: 0.002788214970018678\n",
      "----------epoch: 59------------\n",
      "mean square loss: 0.00277414917481942\n",
      "----------epoch: 60------------\n",
      "mean square loss: 0.0027263037216054067\n",
      "----------epoch: 61------------\n",
      "mean square loss: 0.0026813959913154412\n",
      "----------epoch: 62------------\n",
      "mean square loss: 0.002712498224347433\n",
      "----------epoch: 63------------\n",
      "mean square loss: 0.0026684087637633145\n",
      "----------epoch: 64------------\n",
      "mean square loss: 0.002617821279548531\n",
      "----------epoch: 65------------\n",
      "mean square loss: 0.002501882058512462\n",
      "----------epoch: 66------------\n",
      "mean square loss: 0.002617289662033019\n",
      "----------epoch: 67------------\n",
      "mean square loss: 0.0026156692984195358\n",
      "----------epoch: 68------------\n",
      "mean square loss: 0.0026071734093454104\n",
      "----------epoch: 69------------\n",
      "mean square loss: 0.00257571230388071\n",
      "----------epoch: 70------------\n",
      "mean square loss: 0.00255466817833901\n",
      "----------epoch: 71------------\n",
      "mean square loss: 0.0024828705410107742\n",
      "----------epoch: 72------------\n",
      "mean square loss: 0.0025144932586518755\n",
      "----------epoch: 73------------\n",
      "mean square loss: 0.00260575723841378\n",
      "----------epoch: 74------------\n",
      "mean square loss: 0.002459402536333654\n",
      "----------epoch: 75------------\n",
      "mean square loss: 0.002523915108311204\n",
      "----------epoch: 76------------\n",
      "mean square loss: 0.002481579001061827\n",
      "----------epoch: 77------------\n",
      "mean square loss: 0.0024919402252366624\n",
      "----------epoch: 78------------\n",
      "mean square loss: 0.002532424292980459\n",
      "----------epoch: 79------------\n",
      "mean square loss: 0.0023530103487406175\n",
      "----------epoch: 80------------\n",
      "mean square loss: 0.00238998645300217\n",
      "----------epoch: 81------------\n",
      "mean square loss: 0.002407614088489963\n",
      "----------epoch: 82------------\n",
      "mean square loss: 0.0023473347527822775\n",
      "----------epoch: 83------------\n",
      "mean square loss: 0.0023311639610116785\n",
      "----------epoch: 84------------\n",
      "mean square loss: 0.0023965221777447225\n",
      "----------epoch: 85------------\n",
      "mean square loss: 0.002419151809457942\n",
      "----------epoch: 86------------\n",
      "mean square loss: 0.0023981685459193306\n",
      "----------epoch: 87------------\n",
      "mean square loss: 0.0024472326378182016\n",
      "----------epoch: 88------------\n",
      "mean square loss: 0.002364609022496853\n",
      "----------epoch: 89------------\n",
      "mean square loss: 0.0023280378114931303\n",
      "----------epoch: 90------------\n",
      "mean square loss: 0.002304613539834707\n",
      "----------epoch: 91------------\n",
      "mean square loss: 0.0023259438445107266\n",
      "----------epoch: 92------------\n",
      "mean square loss: 0.0023152599485110645\n",
      "----------epoch: 93------------\n",
      "mean square loss: 0.00226180035870859\n",
      "----------epoch: 94------------\n",
      "mean square loss: 0.002281918919919656\n",
      "----------epoch: 95------------\n",
      "mean square loss: 0.0023247205534675562\n",
      "----------epoch: 96------------\n",
      "mean square loss: 0.0022868233752674078\n",
      "----------epoch: 97------------\n",
      "mean square loss: 0.0022961229048645065\n",
      "----------epoch: 98------------\n",
      "mean square loss: 0.0021116444103267\n",
      "----------epoch: 99------------\n",
      "mean square loss: 0.0022027792911267245\n"
     ]
    }
   ],
   "source": [
    "nn = FeedForwardNeuralNetwork(784, 30, 10)\n",
    "epochs = 100\n",
    "learning_rate = 0.1\n",
    "batch_size = 64\n",
    "nn.train_sgd(X_train, Y_train_onehot, X_val, Y_val_onehot, learning_rate, batch_size, epochs)\n"
   ]
  },
  {
   "cell_type": "markdown",
   "metadata": {},
   "source": [
    "### Prediction"
   ]
  },
  {
   "cell_type": "code",
   "execution_count": 7,
   "metadata": {},
   "outputs": [],
   "source": [
    "y_pred = nn.predict(X_test)\n",
    "# Convert to labels (0-9)\n",
    "y_pred = y_pred.argmax(axis=1)"
   ]
  },
  {
   "cell_type": "code",
   "execution_count": 8,
   "metadata": {},
   "outputs": [
    {
     "data": {
      "text/plain": [
       "(array([7, 2, 1, ..., 4, 5, 6]), array([7, 2, 1, ..., 4, 5, 6]))"
      ]
     },
     "execution_count": 8,
     "metadata": {},
     "output_type": "execute_result"
    }
   ],
   "source": [
    "y_pred, Y_test"
   ]
  },
  {
   "cell_type": "markdown",
   "metadata": {},
   "source": [
    "### Accuracy"
   ]
  },
  {
   "cell_type": "code",
   "execution_count": 9,
   "metadata": {},
   "outputs": [
    {
     "data": {
      "text/plain": [
       "0.9514"
      ]
     },
     "execution_count": 9,
     "metadata": {},
     "output_type": "execute_result"
    }
   ],
   "source": [
    "from sklearn.metrics import accuracy_score\n",
    "\n",
    "accuracy = accuracy_score(Y_test, y_pred)\n",
    "accuracy"
   ]
  },
  {
   "cell_type": "markdown",
   "metadata": {},
   "source": [
    "### Saving and loading the model\n"
   ]
  },
  {
   "cell_type": "markdown",
   "metadata": {},
   "source": [
    "Save weights"
   ]
  },
  {
   "cell_type": "code",
   "execution_count": 10,
   "metadata": {},
   "outputs": [],
   "source": [
    "# model_name to differentiate between the different model weights\n",
    "model_name = f'model_weights.epochs.{epochs}.lr.{learning_rate}.bsize.{batch_size}'\n",
    "nn.save_weights(model_name)"
   ]
  },
  {
   "cell_type": "markdown",
   "metadata": {},
   "source": [
    "Load weights"
   ]
  },
  {
   "cell_type": "code",
   "execution_count": 11,
   "metadata": {},
   "outputs": [
    {
     "data": {
      "text/plain": [
       "0.9514"
      ]
     },
     "execution_count": 11,
     "metadata": {},
     "output_type": "execute_result"
    }
   ],
   "source": [
    "saved_nn = FeedForwardNeuralNetwork(784, 30, 10)\n",
    "saved_nn.load_weights(f'{model_name}.npz')\n",
    "y_pred = saved_nn.predict(X_test)\n",
    "# Convert to labels (0-9)\n",
    "y_pred = y_pred.argmax(axis=1)\n",
    "accuracy_score(Y_test, y_pred)"
   ]
  },
  {
   "cell_type": "markdown",
   "metadata": {},
   "source": [
    "Confusion matrix"
   ]
  },
  {
   "cell_type": "code",
   "execution_count": 12,
   "metadata": {},
   "outputs": [
    {
     "data": {
      "image/png": "[encoded data removed]",
      "text/plain": [
       "<Figure size 800x600 with 2 Axes>"
      ]
     },
     "metadata": {},
     "output_type": "display_data"
    }
   ],
   "source": [
    "import numpy as np\n",
    "import matplotlib.pyplot as plt\n",
    "import seaborn as sns\n",
    "from sklearn.metrics import confusion_matrix\n",
    "from sklearn import datasets\n",
    "\n",
    "# Compute the confusion matrix\n",
    "confusion_mat = confusion_matrix(Y_test, y_pred)\n",
    "\n",
    "# Plot the confusion matrix using seaborn\n",
    "plt.figure(figsize=(8, 6))\n",
    "sns.set(font_scale=1.2)  # Adjust the font scale for better readability\n",
    "sns.heatmap(confusion_mat, annot=True, fmt='d', cmap='Blues', linewidths=.5, square=True)\n",
    "\n",
    "# Set axis labels and title\n",
    "plt.xlabel('Predicted Labels')\n",
    "plt.ylabel('True Labels')\n",
    "plt.title('Confusion Matrix')\n",
    "\n",
    "# Display the plot\n",
    "plt.show()\n"
   ]
  },
  {
   "cell_type": "markdown",
   "metadata": {},
   "source": [
    "### The accuracy for the models"
   ]
  },
  {
   "cell_type": "markdown",
   "metadata": {},
   "source": [
    "| Person   | Learning rate | Mini-batch size | Acc(validation) | Time (m, s) |\n",
    "|----------|---------------|-----------------|-----------------|-------------|\n",
    "| Jacob    | 0.1           | 8               | 0.9503          | 2m 28.8s    |\n",
    "| Jacob    | 0.7           | 8               | 0.9524          | 2m 25.6s    |\n",
    "| Jacob    | 0.01          | 8               | 0.9361          | 2m 27.8s    |\n",
    "| Jacob    | 0.7           | 1               | 0.9514          | 19m 10.3s   |\n",
    "| Lina     | 0.1           | 32              | 0.9455          | 0m 35.6s    |\n",
    "| Lina     | 0.7           | 32              | 0.5831          | 0m 37.9 s   |\n",
    "| Lina     | 0.01          | 32              | 0.9351          | 0m 37.4 s   |\n",
    "| Dumitra  | 0.1           | 64              | 0.9507          | 0m 35.6s    |\n",
    "| Dumitra  | 0.7           | 64              | 0.5831          | 0m 37.9s    |\n",
    "| Dumitra  | 0.01          | 64              | 0.9351          | 0m 37.4s    |\n",
    "| Filippa  | 0.1           | 1               | 0.9432          | 13m 17.2s   |\n",
    "| Filippa  | 0.1           | 128             | 0.9459          | 0m 33.0s    |\n",
    "| Filippa  | 0.7           | 128             | 0.1022          | 0m 31.7s    |\n",
    "| Filippa  | 0.01          | 128             | 0.9364          | 0m 34.8s    |\n",
    "| Marko    | 0.1           | 256             | 0.8578          | 0m 42.4s    |\n",
    "| Marko    | 0.7           | 256             | 0.0982          | 0m 45.2s    |\n",
    "| Marko    | 0.01          | 256             | 0.9321          | 0m 52.6s    |\n"
   ]
  },
  {
   "cell_type": "code",
   "execution_count": null,
   "metadata": {},
   "outputs": [],
   "source": []
  }
 ],
 "metadata": {
  "kernelspec": {
   "display_name": "Python 3",
   "language": "python",
   "name": "python3"
  },
  "language_info": {
   "codemirror_mode": {
    "name": "ipython",
    "version": 3
   },
   "file_extension": ".py",
   "mimetype": "text/x-python",
   "name": "python",
   "nbconvert_exporter": "python",
   "pygments_lexer": "ipython3",
   "version": "3.10.9"
  },
  "vscode": {
   "interpreter": {
    "hash": "767d51c1340bd893661ea55ea3124f6de3c7a262a8b4abca0554b478b1e2ff90"
   }
  }
 },
 "nbformat": 4,
 "nbformat_minor": 4
}
