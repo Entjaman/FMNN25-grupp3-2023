{
 "cells": [
  {
   "cell_type": "markdown",
   "metadata": {},
   "source": [
    "# Project 1\n",
    "\n",
    "This describes the first bigger programming project in the course, devoted to artificial\n",
    "neural networks.\n",
    "Application: Recognizing handwritten numbers\n",
    "Most people effortlessly recognise these digits as 504192. This ease is deceptive. The\n",
    "difficulty of visual pattern recognition becomes obvious when trying to write a computer\n",
    "program to recognise digits like the above. What seems easy when we do it ourselves\n",
    "suddenly becomes extremely difficult. Simple notions about how we recognise shapes -\n",
    "“a 9 has a loop at the top and a vertical line at the bottom right” - turn out to be not\n",
    "so easy to express algorithmically. If you try to specify such rules, you quickly get lost\n",
    "in a quagmire of exceptions, restrictions and special cases. It seems hopeless.\n",
    "Neural networks approach the problem differently. The idea is to use a large number of\n",
    "handwritten digits, called training examples, and then develop a system that can learn\n",
    "from these training examples. In other words, the neural network uses the examples to\n",
    "automatically derive rules for recognising handwritten digits. In addition, by increasing\n",
    "the number of training examples, the network can learn more about handwriting and\n",
    "thus improve its accuracy."
   ]
  },
  {
   "cell_type": "markdown",
   "metadata": {},
   "source": [
    "### Imports"
   ]
  },
  {
   "cell_type": "code",
   "execution_count": 47,
   "metadata": {},
   "outputs": [],
   "source": [
    "# Imports\n",
    "import numpy as np\n",
    "# pickle is for loading the dataset\n",
    "import pickle"
   ]
  },
  {
   "cell_type": "markdown",
   "metadata": {},
   "source": [
    "### Feedforward NN Class\n",
    "\n",
    "Feedforward neural network consisting of 3 layers (input,\n",
    "hidden, output layer), where each layer can contain any number of neurons. Sigmoid function is used as the activation function.\n",
    "\n",
    "Stochastic gradient method (SGD) with backpropagation to train the network.\n",
    "\n"
   ]
  },
  {
   "cell_type": "code",
   "execution_count": 59,
   "metadata": {},
   "outputs": [],
   "source": [
    "# Feedforward NN Class\n",
    "class FeedForwardNeuralNetwork():\n",
    "    def __init__(self, input_size, hidden_size, output_size):\n",
    "        self.input_size = input_size\n",
    "        self.hidden_size = hidden_size\n",
    "        self.output_size = output_size\n",
    "        \n",
    "        # randn was used to achieve a better initial estimate of the weights and biases by having random values from a \n",
    "        # gaussian distribution. This results in better accuracy    \n",
    "        self.weights_input_hidden = np.random.randn(self.input_size, self.hidden_size)\n",
    "        self.bias_hidden = np.random.randn(self.hidden_size)\n",
    "        self.weights_output_hidden = np.random.randn(self.hidden_size, self.output_size)\n",
    "        self.bias_output = np.random.randn(self.output_size)\n",
    "\n",
    "    def sigmoid(self, X):\n",
    "        return 1 / (1 + np.exp(-X))\n",
    "    \n",
    "    # performs the forward pass through the neural network : that is, it does matrix multiplication(np.dot) and adds the\n",
    "    # biases\n",
    "    def forward(self, input_data):\n",
    "        hidden_input = np.dot(input_data, self.weights_input_hidden) + self.bias_hidden\n",
    "        hidden_output = self.sigmoid(hidden_input)\n",
    "        output = np.dot(hidden_output, self.weights_output_hidden) + self.bias_output\n",
    "        network_output = self.sigmoid(output)\n",
    "        return network_output, hidden_output\n",
    "    \n",
    "\n",
    "    def train_sgd(self, X_train, Y_train, X_val, Y_val_onehot, learning_rate, batch_size, epochs):\n",
    "        \n",
    "        \"\"\"\n",
    "        X_train : training samples\n",
    "        Y_train : training labels\n",
    "        x_val   : validation samples\n",
    "        Y_val_onehot  : validation labels\n",
    "        learning_rate : step size for the backpropagation\n",
    "        batch_size    : the number of samples processed before the model is updated\n",
    "        epochs        : the number of complete passes through the entire dataset\n",
    "        \n",
    "        \"\"\"\n",
    "        # starting value for the loss\n",
    "        best_val_loss = 100\n",
    "        indices = np.arange(len(X_train))\n",
    "\n",
    "        for epoch in range(epochs):\n",
    "            # Shuffle the dataset so that the batch samples are not consecutive\n",
    "            np.random.shuffle(indices)\n",
    "            total_loss = []\n",
    "\n",
    "            print(f'----------epoch: {epoch}------------')\n",
    "\n",
    "            for i in range(0, len(X_train), batch_size):\n",
    "                # Create mini-batches\n",
    "                batch_indices = indices[i:i+batch_size]\n",
    "                X_batch = X_train[batch_indices]\n",
    "                y_batch = Y_train[batch_indices]\n",
    "\n",
    "                # Forward pass\n",
    "                network_output, hidden_output = self.forward(X_batch)\n",
    "\n",
    "                # Backpropagation\n",
    "                # Calculate loss and gradients\n",
    "                # quadratic function (square loss) -- 1/2n is the mean from the formula\n",
    "                loss = np.mean(0.5 * (network_output - y_batch) ** 2, axis=0)\n",
    "                # the loss is averaged over the multiple losses to have a prettier print\n",
    "                total_loss.append(np.mean(loss))  # Average over the mini-batch\n",
    "\n",
    "                error = network_output - y_batch\n",
    "                # calculate the gradient (derivative) of the loss with respect to the output of the neural network's final layer.\n",
    "                d_output = error * network_output * (1 - network_output)\n",
    "                # calculate the gradient of the loss with respect to the hidden layer's activations.\n",
    "                d_hidden = np.dot(d_output, self.weights_output_hidden.T) * hidden_output * (1 - hidden_output)\n",
    "\n",
    "                # Update weights and biases\n",
    "                self.weights_output_hidden -= learning_rate * np.dot(hidden_output.T, d_output)\n",
    "                self.bias_output -= learning_rate * np.sum(d_output, axis=0)\n",
    "                self.weights_input_hidden -= learning_rate * np.dot(X_batch.T, d_hidden)\n",
    "                self.bias_hidden -= learning_rate * np.sum(d_hidden, axis=0)\n",
    "                \n",
    "            print(f'mean square loss: {np.mean(total_loss)}')\n",
    "                # Evaluate the model on the validation set\n",
    "                #maybe comment it if we dont want the validation within the training\n",
    "              \n",
    "        \"\"\"             \n",
    "            val_loss, val_accuracy = self.evaluate(X_val, Y_val_onehot) \n",
    "            print(f\"Epoch {epoch+1}: Validation Loss = {val_loss:.4f}, Validation Accuracy = {val_accuracy:.4f}\")\n",
    "    \n",
    "            # Check for early stopping or other criteria to save the best model\n",
    "            if val_loss < best_val_loss:\n",
    "                best_val_loss = val_loss\n",
    "                woh =  self.weights_output_hidden\n",
    "                bo = self.bias_output\n",
    "                wih = self.weights_input_hidden\n",
    "                bh = self.bias_hidden\n",
    "\n",
    "        # Update weights to the best weights\n",
    "        self.weights_output_hidden = woh \n",
    "        self.bias_output = bo\n",
    "        self.weights_input_hidden = wih\n",
    "        self.bias_hidden = bh\n",
    "        \"\"\"\n",
    "\n",
    "    def evaluate(self, X_val, Y_val):\n",
    "        num_examples = len(X_val)\n",
    "        # Forward pass on the validation data\n",
    "        val_predictions = self.predict(X_val)\n",
    "        # Calculate the mean loss\n",
    "        val_loss = np.mean(0.5 * (val_predictions - X_val) ** 2, axis=0)\n",
    "\n",
    "        # Convert predicted probabilities to predicted class labels (0-9)\n",
    "        val_predictions_class = np.argmax(val_predictions, axis=1)\n",
    "        \n",
    "        # Convert true labels (one-hot encoded) to true class labels (0-9)\n",
    "        Y_val_class = np.argmax(Y_val, axis=1)\n",
    "\n",
    "        # Calculate accuracy\n",
    "        val_accuracy = np.sum(val_predictions_class == Y_val_class) / num_examples\n",
    "\n",
    "        return val_loss, val_accuracy\n",
    "\n",
    "        \n",
    "    def predict(self, input_data):\n",
    "        # Perform a forward pass to generate predictions\n",
    "        hidden_input = np.dot(input_data, self.weights_input_hidden) + self.bias_hidden\n",
    "        hidden_output = self.sigmoid(hidden_input)\n",
    "        output = np.dot(hidden_output, self.weights_output_hidden) + self.bias_output\n",
    "        network_output = self.sigmoid(output)\n",
    "\n",
    "        # Return the predicted values\n",
    "        return network_output\n",
    "    \n",
    "    # functions to save the weights and biases in a txt file and to load it in the model\n",
    "    def save_weights(self, filename):\n",
    "        \"\"\"\n",
    "        This function saves the weights from the model in order i.e. the weights from the first layer and then second according\n",
    "        to the labels given in the function call(which is before the equal)\n",
    "        The file will have the .npz extension automatically if not written specifically in the filename\n",
    "        \"\"\"\n",
    "        #probably want to save the number of neurons on each layer as well, and restore the model with load(but i thought about it a bit too late)\n",
    "        np.savez(filename, weights_input_hidden=self.weights_input_hidden,\n",
    "                           bias_hidden=self.bias_hidden,\n",
    "                           weights_output_hidden= self.weights_output_hidden,\n",
    "                           bias_output =self.bias_output)\n",
    "    \n",
    "    \n",
    "    def load_weights(self,filename):\n",
    "        \"\"\"\n",
    "        Loads the weights from a file. The filename should have the extension .npz in the name. The weights are loaded\n",
    "        according to the labels which have been used to save it\n",
    "        \n",
    "        \"\"\"\n",
    "        all_weights = np.load(filename)\n",
    "        self.weights_input_hidden = all_weights['weights_input_hidden']\n",
    "        self.bias_hidden = all_weights['bias_hidden']\n",
    "        self.weights_output_hidden = all_weights['weights_output_hidden']\n",
    "        self.bias_output = all_weights['bias_output']\n"
   ]
  },
  {
   "cell_type": "markdown",
   "metadata": {},
   "source": [
    "### Load Data\n",
    "\n",
    "Reading in MNIST data (provided in canvas). The data is separated into training\n",
    "data (50 000), validation data (10 000), and test data (10 000)."
   ]
  },
  {
   "cell_type": "code",
   "execution_count": 49,
   "metadata": {},
   "outputs": [],
   "source": [
    "# Load MNIST data from mnist.pkl\n",
    "with open('mnist.pkl', 'rb') as f:\n",
    "    mnist_data = pickle.load(f, encoding='latin1')\n",
    "\n",
    "# Extract training, validation, and test sets\n",
    "train_data, valid_data, test_data = mnist_data\n",
    "\n",
    "# Unpack the data into inputs and labels\n",
    "X_train, Y_train = train_data\n",
    "X_val, Y_val = valid_data\n",
    "X_test, Y_test = test_data\n",
    "\n",
    "# Convert inputs to numpy arrays\n",
    "X_train = np.array(X_train)\n",
    "X_val = np.array(X_val)\n",
    "X_test = np.array(X_test)\n",
    "\n",
    "# Convert labels to numpy arrays\n",
    "Y_train = np.array(Y_train)\n",
    "Y_val = np.array(Y_val)\n",
    "Y_test = np.array(Y_test)\n"
   ]
  },
  {
   "cell_type": "markdown",
   "metadata": {},
   "source": [
    "### Normalize "
   ]
  },
  {
   "cell_type": "code",
   "execution_count": 50,
   "metadata": {},
   "outputs": [],
   "source": [
    "\n",
    "from sklearn.preprocessing import MinMaxScaler\n",
    "\n",
    "scaler = MinMaxScaler()\n",
    "X_train_normalized = scaler.fit_transform(X_train)\n",
    "X_val_normalized = scaler.transform(X_val)\n",
    "X_test_normalized = scaler.transform(X_test)"
   ]
  },
  {
   "cell_type": "markdown",
   "metadata": {},
   "source": [
    "### Onehot encode the labels"
   ]
  },
  {
   "cell_type": "code",
   "execution_count": 51,
   "metadata": {},
   "outputs": [
    {
     "data": {
      "text/plain": [
       "((50000, 10), (50000, 784))"
      ]
     },
     "execution_count": 51,
     "metadata": {},
     "output_type": "execute_result"
    }
   ],
   "source": [
    "#one hot encoding - maps the numbers for all the dataset to vectors with 1s and 0s \n",
    "from sklearn.preprocessing import OneHotEncoder\n",
    "encoder = OneHotEncoder(sparse_output=False)\n",
    "Y_train_onehot = encoder.fit_transform(Y_train.reshape(-1, 1))\n",
    "Y_val_onehot = encoder.fit_transform(Y_val.reshape(-1, 1))\n",
    "\n",
    "np.shape(Y_train_onehot), np.shape(X_train)"
   ]
  },
  {
   "cell_type": "markdown",
   "metadata": {},
   "source": [
    "### Training\n",
    "Train and test the accuracy of the network for the following parameters:\n",
    "\n",
    "• Input layer with 784 + 1 neurons\n",
    "\n",
    "• hidden layer with 30 + 1 neurons\n",
    "\n",
    "• Output layer with 10 neurons\n",
    "\n",
    "As loss function use the quadratic function (square loss),\n",
    "where (x, y) is a pair of training data, n the amount of used training data, and hw\n",
    "represents the neural network."
   ]
  },
  {
   "cell_type": "code",
   "execution_count": 52,
   "metadata": {},
   "outputs": [
    {
     "name": "stdout",
     "output_type": "stream",
     "text": [
      "----------epoch: 0------------\n",
      "mean square loss: 0.043982443615386696\n",
      "----------epoch: 1------------\n",
      "mean square loss: 0.029812742113340424\n",
      "----------epoch: 2------------\n",
      "mean square loss: 0.02493963546107567\n",
      "----------epoch: 3------------\n",
      "mean square loss: 0.022719695581358824\n",
      "----------epoch: 4------------\n",
      "mean square loss: 0.021390767411668985\n",
      "----------epoch: 5------------\n",
      "mean square loss: 0.0204631786464621\n",
      "----------epoch: 6------------\n",
      "mean square loss: 0.019764385591977712\n",
      "----------epoch: 7------------\n",
      "mean square loss: 0.0191926315749839\n",
      "----------epoch: 8------------\n",
      "mean square loss: 0.01767494471495375\n",
      "----------epoch: 9------------\n",
      "mean square loss: 0.01562790963298855\n",
      "----------epoch: 10------------\n",
      "mean square loss: 0.01486294862707695\n",
      "----------epoch: 11------------\n",
      "mean square loss: 0.014369016148820333\n",
      "----------epoch: 12------------\n",
      "mean square loss: 0.013977369718327741\n",
      "----------epoch: 13------------\n",
      "mean square loss: 0.013662090926998731\n",
      "----------epoch: 14------------\n",
      "mean square loss: 0.013378479669651822\n",
      "----------epoch: 15------------\n",
      "mean square loss: 0.01312907970000609\n",
      "----------epoch: 16------------\n",
      "mean square loss: 0.012909054127861015\n",
      "----------epoch: 17------------\n",
      "mean square loss: 0.012704779712767329\n",
      "----------epoch: 18------------\n",
      "mean square loss: 0.010663493154716446\n",
      "----------epoch: 19------------\n",
      "mean square loss: 0.00858992680559541\n",
      "----------epoch: 20------------\n",
      "mean square loss: 0.008187607987519196\n",
      "----------epoch: 21------------\n",
      "mean square loss: 0.007929015144027527\n",
      "----------epoch: 22------------\n",
      "mean square loss: 0.007727828340933494\n",
      "----------epoch: 23------------\n",
      "mean square loss: 0.007558466837415675\n",
      "----------epoch: 24------------\n",
      "mean square loss: 0.007400469830989606\n",
      "----------epoch: 25------------\n",
      "mean square loss: 0.007265286097163474\n",
      "----------epoch: 26------------\n",
      "mean square loss: 0.007144133474958011\n",
      "----------epoch: 27------------\n",
      "mean square loss: 0.007024123819485176\n",
      "----------epoch: 28------------\n",
      "mean square loss: 0.006919992793131015\n",
      "----------epoch: 29------------\n",
      "mean square loss: 0.006816640155539719\n",
      "----------epoch: 30------------\n",
      "mean square loss: 0.00672367723505809\n",
      "----------epoch: 31------------\n",
      "mean square loss: 0.006639465815901444\n",
      "----------epoch: 32------------\n",
      "mean square loss: 0.006554922397524029\n",
      "----------epoch: 33------------\n",
      "mean square loss: 0.006474241650678663\n",
      "----------epoch: 34------------\n",
      "mean square loss: 0.006394385101494563\n",
      "----------epoch: 35------------\n",
      "mean square loss: 0.006316520837898788\n",
      "----------epoch: 36------------\n",
      "mean square loss: 0.006252967975905255\n",
      "----------epoch: 37------------\n",
      "mean square loss: 0.006189383850526938\n",
      "----------epoch: 38------------\n",
      "mean square loss: 0.0061262936992450626\n",
      "----------epoch: 39------------\n",
      "mean square loss: 0.006063490990775777\n",
      "----------epoch: 40------------\n",
      "mean square loss: 0.006007076080813208\n",
      "----------epoch: 41------------\n",
      "mean square loss: 0.0059470744395335035\n",
      "----------epoch: 42------------\n",
      "mean square loss: 0.005893518146723441\n",
      "----------epoch: 43------------\n",
      "mean square loss: 0.005836495858210772\n",
      "----------epoch: 44------------\n",
      "mean square loss: 0.005791405274478643\n",
      "----------epoch: 45------------\n",
      "mean square loss: 0.005731229429752168\n",
      "----------epoch: 46------------\n",
      "mean square loss: 0.005689280147446242\n",
      "----------epoch: 47------------\n",
      "mean square loss: 0.005641970469373015\n",
      "----------epoch: 48------------\n",
      "mean square loss: 0.005598955362578429\n",
      "----------epoch: 49------------\n",
      "mean square loss: 0.0055578850299527974\n",
      "----------epoch: 50------------\n",
      "mean square loss: 0.0055088133866249165\n",
      "----------epoch: 51------------\n",
      "mean square loss: 0.0054693550841743354\n",
      "----------epoch: 52------------\n",
      "mean square loss: 0.005429529996306244\n",
      "----------epoch: 53------------\n",
      "mean square loss: 0.005395413237163865\n",
      "----------epoch: 54------------\n",
      "mean square loss: 0.0053592905207769615\n",
      "----------epoch: 55------------\n",
      "mean square loss: 0.005317520292293678\n",
      "----------epoch: 56------------\n",
      "mean square loss: 0.005286844427716506\n",
      "----------epoch: 57------------\n",
      "mean square loss: 0.005250923319813885\n",
      "----------epoch: 58------------\n",
      "mean square loss: 0.005215903946494646\n",
      "----------epoch: 59------------\n",
      "mean square loss: 0.005186847532599617\n",
      "----------epoch: 60------------\n",
      "mean square loss: 0.005159166642493209\n",
      "----------epoch: 61------------\n",
      "mean square loss: 0.005121783686559157\n",
      "----------epoch: 62------------\n",
      "mean square loss: 0.005090693191475037\n",
      "----------epoch: 63------------\n",
      "mean square loss: 0.005062259502108383\n",
      "----------epoch: 64------------\n",
      "mean square loss: 0.005035052509906394\n",
      "----------epoch: 65------------\n",
      "mean square loss: 0.0050061011355370935\n",
      "----------epoch: 66------------\n",
      "mean square loss: 0.004972788511571609\n",
      "----------epoch: 67------------\n",
      "mean square loss: 0.004948716974652241\n",
      "----------epoch: 68------------\n",
      "mean square loss: 0.004918422965429598\n",
      "----------epoch: 69------------\n",
      "mean square loss: 0.004885547848431206\n",
      "----------epoch: 70------------\n",
      "mean square loss: 0.004868955315494384\n",
      "----------epoch: 71------------\n",
      "mean square loss: 0.004840121268202871\n",
      "----------epoch: 72------------\n",
      "mean square loss: 0.004816067477758072\n",
      "----------epoch: 73------------\n",
      "mean square loss: 0.00479468249430694\n",
      "----------epoch: 74------------\n",
      "mean square loss: 0.004761936915588056\n",
      "----------epoch: 75------------\n",
      "mean square loss: 0.004740527134751415\n",
      "----------epoch: 76------------\n",
      "mean square loss: 0.004720862570540291\n",
      "----------epoch: 77------------\n",
      "mean square loss: 0.004693593140249625\n",
      "----------epoch: 78------------\n",
      "mean square loss: 0.004672550145967379\n",
      "----------epoch: 79------------\n",
      "mean square loss: 0.0046484508414351014\n",
      "----------epoch: 80------------\n",
      "mean square loss: 0.004625562879097311\n",
      "----------epoch: 81------------\n",
      "mean square loss: 0.0046039145995609146\n",
      "----------epoch: 82------------\n",
      "mean square loss: 0.004580121476264164\n",
      "----------epoch: 83------------\n",
      "mean square loss: 0.004559208834832075\n",
      "----------epoch: 84------------\n",
      "mean square loss: 0.0045417326667595475\n",
      "----------epoch: 85------------\n",
      "mean square loss: 0.0045199293961070384\n",
      "----------epoch: 86------------\n",
      "mean square loss: 0.004500892995959142\n",
      "----------epoch: 87------------\n",
      "mean square loss: 0.004479308746696851\n",
      "----------epoch: 88------------\n",
      "mean square loss: 0.004462064827756269\n",
      "----------epoch: 89------------\n",
      "mean square loss: 0.0044434269219197275\n",
      "----------epoch: 90------------\n",
      "mean square loss: 0.004420500356078476\n",
      "----------epoch: 91------------\n",
      "mean square loss: 0.00440368993122125\n",
      "----------epoch: 92------------\n",
      "mean square loss: 0.004386152582351164\n",
      "----------epoch: 93------------\n",
      "mean square loss: 0.004365258223114217\n",
      "----------epoch: 94------------\n",
      "mean square loss: 0.004350396054320289\n",
      "----------epoch: 95------------\n",
      "mean square loss: 0.004332894318641509\n",
      "----------epoch: 96------------\n",
      "mean square loss: 0.004309995463858969\n",
      "----------epoch: 97------------\n",
      "mean square loss: 0.004297072457617959\n",
      "----------epoch: 98------------\n",
      "mean square loss: 0.004279113578596204\n",
      "----------epoch: 99------------\n",
      "mean square loss: 0.004262506731894869\n"
     ]
    }
   ],
   "source": [
    "nn = FeedForwardNeuralNetwork(784, 30, 10)\n",
    "epochs = 100\n",
    "learning_rate = 0.01\n",
    "batch_size = 128\n",
    "nn.train_sgd(X_train, Y_train_onehot, X_val, Y_val_onehot, learning_rate, batch_size, epochs)\n"
   ]
  },
  {
   "cell_type": "markdown",
   "metadata": {},
   "source": [
    "### Prediction"
   ]
  },
  {
   "cell_type": "code",
   "execution_count": 53,
   "metadata": {},
   "outputs": [],
   "source": [
    "y_pred = nn.predict(X_test)\n",
    "# Convert to labels (0-9)\n",
    "y_pred = y_pred.argmax(axis=1)"
   ]
  },
  {
   "cell_type": "code",
   "execution_count": 54,
   "metadata": {},
   "outputs": [
    {
     "data": {
      "text/plain": [
       "(array([7, 2, 1, ..., 4, 5, 6]), array([7, 2, 1, ..., 4, 5, 6]))"
      ]
     },
     "execution_count": 54,
     "metadata": {},
     "output_type": "execute_result"
    }
   ],
   "source": [
    "y_pred, Y_test"
   ]
  },
  {
   "cell_type": "markdown",
   "metadata": {},
   "source": [
    "### Accuracy"
   ]
  },
  {
   "cell_type": "code",
   "execution_count": 55,
   "metadata": {},
   "outputs": [
    {
     "data": {
      "text/plain": [
       "0.9364"
      ]
     },
     "execution_count": 55,
     "metadata": {},
     "output_type": "execute_result"
    }
   ],
   "source": [
    "from sklearn.metrics import accuracy_score\n",
    "\n",
    "accuracy = accuracy_score(Y_test, y_pred)\n",
    "accuracy"
   ]
  },
  {
   "cell_type": "markdown",
   "metadata": {},
   "source": [
    "### Saving and loading the model\n"
   ]
  },
  {
   "cell_type": "markdown",
   "metadata": {},
   "source": [
    "Save weights"
   ]
  },
  {
   "cell_type": "code",
   "execution_count": 56,
   "metadata": {},
   "outputs": [],
   "source": [
    "# model_name to differentiate between the different model weights\n",
    "model_name = f'model_weights.epochs.{epochs}.lr.{learning_rate}.bsize.{batch_size}'\n",
    "nn.save_weights(model_name)"
   ]
  },
  {
   "cell_type": "markdown",
   "metadata": {},
   "source": [
    "Load weights"
   ]
  },
  {
   "cell_type": "code",
   "execution_count": 57,
   "metadata": {},
   "outputs": [
    {
     "data": {
      "text/plain": [
       "0.9364"
      ]
     },
     "execution_count": 57,
     "metadata": {},
     "output_type": "execute_result"
    }
   ],
   "source": [
    "saved_nn = FeedForwardNeuralNetwork(784, 30, 10)\n",
    "saved_nn.load_weights(f'{model_name}.npz')\n",
    "y_pred = saved_nn.predict(X_test)\n",
    "# Convert to labels (0-9)\n",
    "y_pred = y_pred.argmax(axis=1)\n",
    "accuracy_score(Y_test, y_pred)"
   ]
  },
  {
   "cell_type": "markdown",
   "metadata": {},
   "source": [
    "Confusion matrix"
   ]
  },
  {
   "cell_type": "code",
   "execution_count": 58,
   "metadata": {},
   "outputs": [
    {
     "data": {
      "image/png": "[encoded data removed]",
      "text/plain": [
       "<Figure size 800x600 with 2 Axes>"
      ]
     },
     "metadata": {},
     "output_type": "display_data"
    }
   ],
   "source": [
    "import numpy as np\n",
    "import matplotlib.pyplot as plt\n",
    "import seaborn as sns\n",
    "from sklearn.metrics import confusion_matrix\n",
    "from sklearn import datasets\n",
    "\n",
    "# Compute the confusion matrix\n",
    "confusion_mat = confusion_matrix(Y_test, y_pred)\n",
    "\n",
    "# Plot the confusion matrix using seaborn\n",
    "plt.figure(figsize=(8, 6))\n",
    "sns.set(font_scale=1.2)  # Adjust the font scale for better readability\n",
    "sns.heatmap(confusion_mat, annot=True, fmt='d', cmap='Blues', linewidths=.5, square=True)\n",
    "\n",
    "# Set axis labels and title\n",
    "plt.xlabel('Predicted Labels')\n",
    "plt.ylabel('True Labels')\n",
    "plt.title('Confusion Matrix')\n",
    "\n",
    "# Display the plot\n",
    "plt.show()\n"
   ]
  },
  {
   "cell_type": "markdown",
   "metadata": {},
   "source": [
    "### The accuracy for the models"
   ]
  },
  {
   "cell_type": "markdown",
   "metadata": {},
   "source": [
    "| Person   | Learning rate | Mini-batch size | Acc(validation) | Time (m, s) |\n",
    "|----------|---------------|-----------------|-----------------|-------------|\n",
    "| Jacob    | 0.1           | 8               |                 |             |\n",
    "| Jacob    | 0.7           | 8               |                 |             |\n",
    "| Jacob    | 0.01          | 8               |                 |             |\n",
    "| Jacob    | 0.7           | 1               |                 |             |\n",
    "| Lina     | 0.1           | 32              |                 |             |\n",
    "| Lina     | 0.7           | 32              |                 |             |\n",
    "| Lina     | 0.01          | 32              |                 |             |\n",
    "| Lina     | 0.01          | 1               |                 |             |\n",
    "| Dumitra  | 0.1           | 64              |                 |             |\n",
    "| Dumitra  | 0.7           | 64              |                 |             |\n",
    "| Dumitra  | 0.01          | 64              |                 |             |\n",
    "| Filippa  | 0.1           | 1               | 0.9432          | 13m 17.2s   |\n",
    "| Filippa  | 0.1           | 128             | 0.9459          | 0m 33.0s    |\n",
    "| Filippa  | 0.7           | 128             | 0.1022          | 0m 31.7s    |\n",
    "| Filippa  | 0.01          | 128             | 0.9364          | 0m 34.8s    |\n",
    "| Marko    | 0.1           | 256             |                 |             |\n",
    "| Marko    | 0.7           | 256             |                 |             |\n",
    "| Marko    | 0.01          | 256             |                 |             |\n"
   ]
  }
 ],
 "metadata": {
  "kernelspec": {
   "display_name": "Python 3 (ipykernel)",
   "language": "python",
   "name": "python3"
  },
  "language_info": {
   "codemirror_mode": {
    "name": "ipython",
    "version": 3
   },
   "file_extension": ".py",
   "mimetype": "text/x-python",
   "name": "python",
   "nbconvert_exporter": "python",
   "pygments_lexer": "ipython3",
   "version": "3.10.9"
  }
 },
 "nbformat": 4,
 "nbformat_minor": 2
}
